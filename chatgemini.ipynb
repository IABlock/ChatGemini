{
  "nbformat": 4,
  "nbformat_minor": 0,
  "metadata": {
    "colab": {
      "provenance": [],
      "authorship_tag": "ABX9TyMKb0VnDjSJg216YLPxz2nO",
      "include_colab_link": true
    },
    "kernelspec": {
      "name": "python3",
      "display_name": "Python 3"
    },
    "language_info": {
      "name": "python"
    }
  },
  "cells": [
    {
      "cell_type": "markdown",
      "metadata": {
        "id": "view-in-github",
        "colab_type": "text"
      },
      "source": [
        "<a href=\"https://colab.research.google.com/github/IABlock/ChatGemini/blob/main/chatgemini.ipynb\" target=\"_parent\"><img src=\"https://colab.research.google.com/assets/colab-badge.svg\" alt=\"Open In Colab\"/></a>"
      ]
    },
    {
      "cell_type": "markdown",
      "source": [
        "Testing the Gemini API for chat development\n",
        "\n",
        "This example is taken from the Gemini documentation"
      ],
      "metadata": {
        "id": "T27gi63vB8Ry"
      }
    },
    {
      "cell_type": "markdown",
      "source": [
        "# Install"
      ],
      "metadata": {
        "id": "MS8BP4kTCsbC"
      }
    },
    {
      "cell_type": "code",
      "execution_count": null,
      "metadata": {
        "id": "w0fujlcb-0WD"
      },
      "outputs": [],
      "source": [
        "!pip install -q -U google-generativeai"
      ]
    },
    {
      "cell_type": "markdown",
      "source": [
        "# Imports"
      ],
      "metadata": {
        "id": "w948DBpACyoM"
      }
    },
    {
      "cell_type": "code",
      "source": [
        "import pathlib\n",
        "import textwrap\n",
        "\n",
        "import google.generativeai as genai\n",
        "\n",
        "from IPython.display import display\n",
        "from IPython.display import Markdown\n",
        "\n",
        "\n",
        "def to_markdown(text):\n",
        "  text = text.replace('•', '  *')\n",
        "  return Markdown(textwrap.indent(text, '> ', predicate=lambda _: True))\n"
      ],
      "metadata": {
        "id": "UszI5svjC1AG"
      },
      "execution_count": null,
      "outputs": []
    },
    {
      "cell_type": "code",
      "source": [
        "# Used to securely store your API key\n",
        "from google.colab import userdata"
      ],
      "metadata": {
        "id": "XyehY-xEDgjX"
      },
      "execution_count": null,
      "outputs": []
    },
    {
      "cell_type": "markdown",
      "source": [
        "# Key API Gemini"
      ],
      "metadata": {
        "id": "m_nB9CE4DCyl"
      }
    },
    {
      "cell_type": "code",
      "source": [
        "# Or use `os.getenv('GOOGLE_API_KEY')` to fetch an environment variable.\n",
        "GOOGLE_API_KEY=userdata.get('GOOGLE_API_KEY')\n",
        "\n",
        "genai.configure(api_key=GOOGLE_API_KEY)"
      ],
      "metadata": {
        "id": "pt_nA-2cDGoM"
      },
      "execution_count": null,
      "outputs": []
    },
    {
      "cell_type": "markdown",
      "source": [
        "# Models"
      ],
      "metadata": {
        "id": "kEI5wJy1Dttp"
      }
    },
    {
      "cell_type": "code",
      "source": [
        "for m in genai.list_models():\n",
        "  if 'generateContent' in m.supported_generation_methods:\n",
        "    print(m.name)"
      ],
      "metadata": {
        "colab": {
          "base_uri": "https://localhost:8080/",
          "height": 138
        },
        "id": "2TinDYRxDv8N",
        "outputId": "77e6b31c-714c-4e12-d60a-5ce73c6f6940"
      },
      "execution_count": null,
      "outputs": [
        {
          "output_type": "stream",
          "name": "stdout",
          "text": [
            "models/gemini-1.0-pro\n",
            "models/gemini-1.0-pro-001\n",
            "models/gemini-1.0-pro-latest\n",
            "models/gemini-1.0-pro-vision-latest\n",
            "models/gemini-1.5-pro-latest\n",
            "models/gemini-pro\n",
            "models/gemini-pro-vision\n"
          ]
        }
      ]
    },
    {
      "cell_type": "code",
      "source": [
        "model = genai.GenerativeModel('gemini-pro')"
      ],
      "metadata": {
        "id": "9XsUkVB3D0jf"
      },
      "execution_count": null,
      "outputs": []
    },
    {
      "cell_type": "markdown",
      "source": [
        "# Input Chat"
      ],
      "metadata": {
        "id": "iLrh9VWXEEk5"
      }
    },
    {
      "cell_type": "code",
      "source": [
        "%%time\n",
        "response = model.generate_content(\"What is the meaning of life?\")\n",
        "to_markdown(response.text)\n",
        "response.prompt_feedback\n",
        "response.candidates"
      ],
      "metadata": {
        "colab": {
          "base_uri": "https://localhost:8080/",
          "height": 624
        },
        "id": "JFRcfjZhEIzG",
        "outputId": "442782f6-083c-47a9-a924-1b5f37c7f4cf"
      },
      "execution_count": null,
      "outputs": [
        {
          "output_type": "stream",
          "name": "stdout",
          "text": [
            "CPU times: user 98.6 ms, sys: 9.96 ms, total: 109 ms\n",
            "Wall time: 7.12 s\n"
          ]
        },
        {
          "output_type": "execute_result",
          "data": {
            "text/plain": [
              "[content {\n",
              "  parts {\n",
              "    text: \"The meaning of life is a philosophical question that has been pondered by humans for centuries. There is no single, universally agreed-upon answer, as the meaning of life is subjective and varies from person to person. However, there are a number of possible interpretations, including:\\n\\n* **To find happiness and fulfillment.** Many people believe that the meaning of life is to find happiness and fulfillment. This can be achieved through a variety of means, such as spending time with loved ones, pursuing hobbies, or working towards a goal.\\n* **To make a difference in the world.** Others believe that the meaning of life is to make a difference in the world. This can be done through volunteer work, activism, or simply by being kind to others.\\n* **To learn and grow.** Life is a constant learning process, and some people believe that the meaning of life is to learn and grow as much as possible. This can be done through reading, travel, or simply by observing the world around us.\\n* **To connect with something greater than ourselves.** Some people believe that the meaning of life is to connect with something greater than ourselves, such as God, nature, or the universe. This can be done through meditation, prayer, or simply by spending time in nature.\\n\\nUltimately, the meaning of life is something that each individual must discover for themselves. There is no right or wrong answer, and the best way to find out what life means to you is to explore different possibilities and see what resonates with you.\"\n",
              "  }\n",
              "  role: \"model\"\n",
              "}\n",
              "finish_reason: STOP\n",
              "index: 0\n",
              "safety_ratings {\n",
              "  category: HARM_CATEGORY_SEXUALLY_EXPLICIT\n",
              "  probability: NEGLIGIBLE\n",
              "}\n",
              "safety_ratings {\n",
              "  category: HARM_CATEGORY_HATE_SPEECH\n",
              "  probability: NEGLIGIBLE\n",
              "}\n",
              "safety_ratings {\n",
              "  category: HARM_CATEGORY_HARASSMENT\n",
              "  probability: NEGLIGIBLE\n",
              "}\n",
              "safety_ratings {\n",
              "  category: HARM_CATEGORY_DANGEROUS_CONTENT\n",
              "  probability: NEGLIGIBLE\n",
              "}\n",
              "]"
            ]
          },
          "metadata": {},
          "execution_count": 8
        }
      ]
    },
    {
      "cell_type": "code",
      "source": [
        "%%time\n",
        "response = model.generate_content(\"What is the meaning of life?\", stream=True)\n",
        "\n",
        "for chunk in response:\n",
        "  print(chunk.text)\n",
        "  print(\"_\"*80)\n",
        "\n",
        "response = model.generate_content(\"What is the meaning of life?\", stream=True)\n",
        "response.prompt_feedback\n",
        "try:\n",
        "  response.text\n",
        "except Exception as e:\n",
        "  print(f'{type(e).__name__}: {e}')"
      ],
      "metadata": {
        "colab": {
          "base_uri": "https://localhost:8080/",
          "height": 523
        },
        "id": "C1s-YfM6EZ2n",
        "outputId": "d4cf234b-5ec6-47f1-92b5-b80b9a711fd4"
      },
      "execution_count": null,
      "outputs": [
        {
          "output_type": "stream",
          "name": "stdout",
          "text": [
            "The meaning of life is a deeply personal and philosophical question that has been pondered by\n",
            "________________________________________________________________________________\n",
            " humans throughout history. While there is no single, universally accepted answer, there are various perspectives and approaches to understanding the meaning of life:\n",
            "\n",
            "1. Existential\n",
            "________________________________________________________________________________\n",
            "ism: This philosophical school of thought emphasizes the responsibility of individuals to create meaning in their own lives. According to existentialists, there is no inherent meaning in life, and individuals must choose for themselves what is meaningful and purposeful. This view encourages self-reliance, authenticity, and the search for personal values.\n",
            "\n",
            "2.\n",
            "________________________________________________________________________________\n",
            " Purpose-Driven Perspective: Some believe that life has an inherent purpose or destiny. This purpose may be religious, spiritual, or naturalistic. For example, religious individuals may believe that the meaning of life is to worship God and live according to their beliefs, while others may find purpose in serving humanity or contributing to society.\n",
            "\n",
            "3. Hedonism: This approach views pleasure and the pursuit of happiness as the ultimate goal of life. Hedonists believe that enjoying oneself and maximizing pleasurable experiences is the most meaningful way to live.\n",
            "\n",
            "4. Eudaimonia and Well-being: The concept of eudaimonia, or flourishing,\n",
            "________________________________________________________________________________\n",
            " emphasizes the cultivation of virtues and the pursuit of a life characterized by well-being. This perspective focuses on living a meaningful and fulfilling life by developing one's potential and striving for wisdom, knowledge, and personal growth.\n",
            "\n",
            "5. Scientific Approach: Some scientists and philosophers argue that life's meaning can be understood through scientific inquiry and the study of evolution. They suggest that our purpose is to pass on our genes and ensure the survival and evolution of our species.\n",
            "\n",
            "6. Meaninglessness: Another perspective is that life may be inherently meaningless. Some individuals believe that there is no ultimate purpose or significance to our existence, and that we should focus on accepting this reality and living our lives as best we can.\n",
            "\n",
            "Ultimately, the meaning of life is a deeply personal and subjective concept that varies from person to person. It is a journey of exploration, self-discovery, and the creation of meaning in a constantly changing world.\n",
            "________________________________________________________________________________\n",
            "IncompleteIterationError: Please let the response complete iteration before accessing the final accumulated\n",
            "attributes (or call `response.resolve()`)\n",
            "CPU times: user 225 ms, sys: 23.2 ms, total: 249 ms\n",
            "Wall time: 15.9 s\n"
          ]
        }
      ]
    }
  ]
}